{
  "nbformat": 4,
  "nbformat_minor": 0,
  "metadata": {
    "colab": {
      "name": "01_nn_regression_tensorflow.ipynb",
      "provenance": [],
      "collapsed_sections": [],
      "authorship_tag": "ABX9TyMJ+o7aUoiKTzkygmiS8mFU",
      "include_colab_link": true
    },
    "kernelspec": {
      "name": "python3",
      "display_name": "Python 3"
    },
    "language_info": {
      "name": "python"
    }
  },
  "cells": [
    {
      "cell_type": "markdown",
      "metadata": {
        "id": "view-in-github",
        "colab_type": "text"
      },
      "source": [
        "<a href=\"https://colab.research.google.com/github/amitmeel/TensorFlow-Developer-Certificate-in-2021-Zero-to-Mastery/blob/develop/01_nn_regression_tensorflow.ipynb\" target=\"_parent\"><img src=\"https://colab.research.google.com/assets/colab-badge.svg\" alt=\"Open In Colab\"/></a>"
      ]
    },
    {
      "cell_type": "code",
      "metadata": {
        "colab": {
          "base_uri": "https://localhost:8080/"
        },
        "id": "RMAOEpwbPC4M",
        "outputId": "1561da57-1315-4f75-e500-78019c4edd4a"
      },
      "source": [
        "\n",
        "!/usr/bin/nvidia-smi"
      ],
      "execution_count": null,
      "outputs": [
        {
          "output_type": "stream",
          "text": [
            "NVIDIA-SMI has failed because it couldn't communicate with the NVIDIA driver. Make sure that the latest NVIDIA driver is installed and running.\n",
            "\n"
          ],
          "name": "stdout"
        }
      ]
    },
    {
      "cell_type": "code",
      "metadata": {
        "colab": {
          "base_uri": "https://localhost:8080/"
        },
        "id": "9KsXAY1-OkgD",
        "outputId": "8676cc02-439c-44b9-dfcc-db983ca61478"
      },
      "source": [
        "## importing libraries\n",
        "import os\n",
        "import tensorflow as tf\n",
        "import numpy as np\n",
        "import pandas as pd\n",
        "import sklearn\n",
        "from tensorflow import keras\n",
        "import matplotlib.pyplot as plt\n",
        "import matplotlib as mpl\n",
        "\n",
        "print(f\"tf version {tf.__version__}\")"
      ],
      "execution_count": 1,
      "outputs": [
        {
          "output_type": "stream",
          "text": [
            "tf version 2.6.0\n"
          ],
          "name": "stdout"
        }
      ]
    },
    {
      "cell_type": "code",
      "metadata": {
        "id": "-9wpGZ7GO3ro"
      },
      "source": [
        "## create data to view and fit\n",
        "\n",
        "#create feature\n",
        "X = np.array([-7, -4, -1, 2.0, 5.0, 8, 11, 14]) #independent variables\n",
        "\n",
        "#create labels or output\n",
        "y = np.array([3.0, 6.0, 9, 12, 15, 18, 21, 24]) #dependent variable\n"
      ],
      "execution_count": 2,
      "outputs": []
    },
    {
      "cell_type": "code",
      "metadata": {
        "colab": {
          "base_uri": "https://localhost:8080/",
          "height": 300
        },
        "id": "PoDSMTdtWkYH",
        "outputId": "811c2cc0-b623-42b8-afe8-24c01516b3a5"
      },
      "source": [
        "plt.scatter(X,y);\n",
        "plt.xlabel(\"X\")\n",
        "plt.ylabel(\"y\")\n"
      ],
      "execution_count": 3,
      "outputs": [
        {
          "output_type": "execute_result",
          "data": {
            "text/plain": [
              "Text(0, 0.5, 'y')"
            ]
          },
          "metadata": {},
          "execution_count": 3
        },
        {
          "output_type": "display_data",
          "data": {
            "image/png": "[encoded data removed]",
            "text/plain": [
              "<Figure size 432x288 with 1 Axes>"
            ]
          },
          "metadata": {
            "needs_background": "light"
          }
        }
      ]
    },
    {
      "cell_type": "code",
      "metadata": {
        "colab": {
          "base_uri": "https://localhost:8080/"
        },
        "id": "GYqQ2rdGWmDF",
        "outputId": "b96375ff-3ade-4cba-b867-cbe50dc1a49b"
      },
      "source": [
        "y == X+10"
      ],
      "execution_count": 4,
      "outputs": [
        {
          "output_type": "execute_result",
          "data": {
            "text/plain": [
              "array([ True,  True,  True,  True,  True,  True,  True,  True])"
            ]
          },
          "metadata": {},
          "execution_count": 4
        }
      ]
    },
    {
      "cell_type": "code",
      "metadata": {
        "colab": {
          "base_uri": "https://localhost:8080/"
        },
        "id": "jDYghoI4W6sN",
        "outputId": "42c97471-800c-4aad-9968-f989d9741ee3"
      },
      "source": [
        "## input and output shape\n",
        "\n",
        "#create a demo tensor for house price prediction\n",
        "house_info = tf.constant([\"bedroom\", \"bathroom\", \"garage\"])\n",
        "house_price = tf.constant([937700])\n",
        "\n",
        "house_info, house_price"
      ],
      "execution_count": 5,
      "outputs": [
        {
          "output_type": "execute_result",
          "data": {
            "text/plain": [
              "(<tf.Tensor: shape=(3,), dtype=string, numpy=array([b'bedroom', b'bathroom', b'garage'], dtype=object)>,\n",
              " <tf.Tensor: shape=(1,), dtype=int32, numpy=array([937700], dtype=int32)>)"
            ]
          },
          "metadata": {},
          "execution_count": 5
        }
      ]
    },
    {
      "cell_type": "code",
      "metadata": {
        "id": "2zNgcsOiYr01"
      },
      "source": [
        "# turn numpy arrasy to tensor\n",
        "\n",
        "X = tf.constant(X)\n",
        "y =tf.constant(y)"
      ],
      "execution_count": 6,
      "outputs": []
    },
    {
      "cell_type": "code",
      "metadata": {
        "colab": {
          "base_uri": "https://localhost:8080/"
        },
        "id": "0dDr5KacZZT2",
        "outputId": "8231a883-3e0f-46b6-b6ed-1ef851583c0c"
      },
      "source": [
        "input_shape = X[0].shape\n",
        "output_shape = y[0].shape\n",
        "input_shape, output_shape"
      ],
      "execution_count": 7,
      "outputs": [
        {
          "output_type": "execute_result",
          "data": {
            "text/plain": [
              "(TensorShape([]), TensorShape([]))"
            ]
          },
          "metadata": {},
          "execution_count": 7
        }
      ]
    },
    {
      "cell_type": "code",
      "metadata": {
        "id": "DWoLaMmqZnbX"
      },
      "source": [
        ""
      ],
      "execution_count": 7,
      "outputs": []
    },
    {
      "cell_type": "markdown",
      "metadata": {
        "id": "sfurUM6hZgpt"
      },
      "source": [
        "## Typical architecture of a regresison neural network\n",
        "\n",
        "The word *typical* is on purpose.\n",
        "\n",
        "Why?\n",
        "\n",
        "Because there are many different ways (actually, there's almost an infinite number of ways) to write neural networks.\n",
        "\n",
        "But the following is a generic setup for ingesting a collection of numbers, finding patterns in them and then outputing some kind of target number.\n",
        "\n",
        "Yes, the previous sentence is vague but we'll see this in action shortly.\n",
        "\n",
        "| **Hyperparameter** | **Typical value** |\n",
        "| --- | --- |\n",
        "| Input layer shape | Same shape as number of features (e.g. 3 for # bedrooms, # bathrooms, # car spaces in housing price prediction) |\n",
        "| Hidden layer(s) | Problem specific, minimum = 1, maximum = unlimited |\n",
        "| Neurons per hidden layer | Problem specific, generally 10 to 100 |\n",
        "| Output layer shape | Same shape as desired prediction shape (e.g. 1 for house price) |\n",
        "| Hidden activation | Usually [ReLU](https://www.kaggle.com/dansbecker/rectified-linear-units-relu-in-deep-learning) (rectified linear unit) |\n",
        "| Output activation | None, ReLU, logistic/tanh |\n",
        "| Loss function | [MSE](https://en.wikipedia.org/wiki/Mean_squared_error) (mean square error) or [MAE](https://en.wikipedia.org/wiki/Mean_absolute_error) (mean absolute error)/Huber (combination of MAE/MSE) if outliers |\n",
        "| Optimizer | [SGD](https://www.tensorflow.org/api_docs/python/tf/keras/optimizers/SGD) (stochastic gradient descent), [Adam](https://www.tensorflow.org/api_docs/python/tf/keras/optimizers/Adam) |\n",
        "\n",
        "***Table 1:*** *Typical architecture of a regression network.* ***Source:*** *Adapted from page 293 of [Hands-On Machine Learning with Scikit-Learn, Keras & TensorFlow Book by Aurélien Géron](https://www.oreilly.com/library/view/hands-on-machine-learning/9781492032632/)*\n",
        "\n",
        "Again, if you're new to neural networks and deep learning in general, much of the above table won't make sense. But don't worry, we'll be getting hands-on with all of it soon.\n",
        "\n",
        "> 🔑 **Note:** A **hyperparameter** in machine learning is something a data analyst or developer can set themselves, where as a **parameter** usually describes something a model learns on its own (a value not explicitly set by an analyst).\n",
        "\n",
        "Okay, enough talk, let's get started writing code.\n",
        "\n",
        "To use TensorFlow, we'll import it as the common alias `tf` (short for TensorFlow)."
      ]
    },
    {
      "cell_type": "markdown",
      "metadata": {
        "id": "weiu6hUVZ2O1"
      },
      "source": [
        "## Steps in modelling with TensorFlow\n",
        "\n",
        "Now we know what data we have as well as the input and output shapes, let's see how we'd build a neural network to model it.\n",
        "\n",
        "In TensorFlow, there are typically 3 fundamental steps to creating and training a model.\n",
        "\n",
        "1. **Creating a model** - piece together the layers of a neural network yourself (using the [Functional](https://www.tensorflow.org/guide/keras/functional) or [Sequential API](https://www.tensorflow.org/api_docs/python/tf/keras/Sequential)) or import a previously built model (known as transfer learning).\n",
        "2. **Compiling a model** - defining how a models performance should be measured (loss/metrics) as well as defining how it should improve (optimizer). \n",
        "3. **Fitting a model** - letting the model try to find patterns in the data (how does `X` get to `y`). \n",
        "\n",
        "Let's see these in action using the [Keras Sequential API](https://www.tensorflow.org/api_docs/python/tf/keras/Sequential) to build a model for our regression data. And then we'll step through each.\n"
      ]
    },
    {
      "cell_type": "code",
      "metadata": {
        "colab": {
          "base_uri": "https://localhost:8080/"
        },
        "id": "n_vxPSPQaAqA",
        "outputId": "7a849ffd-7694-4aed-d581-471635c63123"
      },
      "source": [
        "# set seed for reproducible results\n",
        "tf.random.set_seed(42)\n",
        "\n",
        "#create a model using sequential api\n",
        "model = tf.keras.Sequential([\n",
        "                             tf.keras.layers.Dense(1)\n",
        "                             ])\n",
        "\n",
        "# compile the model\n",
        "model.compile(loss=tf.keras.losses.mae,\n",
        "              optimizer=tf.keras.optimizers.SGD(),\n",
        "              metrics=[\"mae\"])\n",
        "\n",
        "#fit the model\n",
        "model.fit(X, y, epochs=5)"
      ],
      "execution_count": 8,
      "outputs": [
        {
          "output_type": "stream",
          "text": [
            "Epoch 1/5\n",
            "1/1 [==============================] - 1s 642ms/step - loss: 11.5048 - mae: 11.5048\n",
            "Epoch 2/5\n",
            "1/1 [==============================] - 0s 7ms/step - loss: 11.3723 - mae: 11.3723\n",
            "Epoch 3/5\n",
            "1/1 [==============================] - 0s 13ms/step - loss: 11.2398 - mae: 11.2398\n",
            "Epoch 4/5\n",
            "1/1 [==============================] - 0s 5ms/step - loss: 11.1073 - mae: 11.1073\n",
            "Epoch 5/5\n",
            "1/1 [==============================] - 0s 8ms/step - loss: 10.9748 - mae: 10.9748\n"
          ],
          "name": "stdout"
        },
        {
          "output_type": "execute_result",
          "data": {
            "text/plain": [
              "<keras.callbacks.History at 0x7f4b18f96a10>"
            ]
          },
          "metadata": {},
          "execution_count": 8
        }
      ]
    },
    {
      "cell_type": "code",
      "metadata": {
        "colab": {
          "base_uri": "https://localhost:8080/"
        },
        "id": "OJYyyB1Xdm5A",
        "outputId": "d5f6d42b-8ab2-4064-fedd-086f29590d6a"
      },
      "source": [
        "model.summary()"
      ],
      "execution_count": 9,
      "outputs": [
        {
          "output_type": "stream",
          "text": [
            "Model: \"sequential\"\n",
            "_________________________________________________________________\n",
            "Layer (type)                 Output Shape              Param #   \n",
            "=================================================================\n",
            "dense (Dense)                (None, 1)                 2         \n",
            "=================================================================\n",
            "Total params: 2\n",
            "Trainable params: 2\n",
            "Non-trainable params: 0\n",
            "_________________________________________________________________\n"
          ],
          "name": "stdout"
        }
      ]
    },
    {
      "cell_type": "code",
      "metadata": {
        "colab": {
          "base_uri": "https://localhost:8080/"
        },
        "id": "dvbNzFHkd8M_",
        "outputId": "193cceb6-e7d7-453e-ea3a-f483477e2c39"
      },
      "source": [
        "model.predict([17])"
      ],
      "execution_count": 10,
      "outputs": [
        {
          "output_type": "execute_result",
          "data": {
            "text/plain": [
              "array([[12.716021]], dtype=float32)"
            ]
          },
          "metadata": {},
          "execution_count": 10
        }
      ]
    },
    {
      "cell_type": "markdown",
      "metadata": {
        "id": "xWBwo0vOeUNP"
      },
      "source": [
        "## Improving a model\n",
        "\n",
        "How do you think you'd improve upon our current model?\n",
        "\n",
        "If you guessed by tweaking some of the things we did above, you'd be correct.\n",
        "\n",
        "To improve our model, we alter almost every part of the 3 steps we went through before.\n",
        "\n",
        "1. **Creating a model** - here you might want to add more layers, increase the number of hidden units (also called neurons) within each layer, change the activation functions of each layer.\n",
        "2. **Compiling a model** - you might want to choose optimization function or perhaps change the **learning rate** of the optimization function.\n",
        "3. **Fitting a model** - perhaps you could fit a model for more **epochs** (leave it training for longer) or on more data (give the model more examples to learn from).\n",
        "\n",
        "![various options you can use to improve a neural network model](https://raw.githubusercontent.com/mrdbourke/tensorflow-deep-learning/main/images/02-improving-a-model-from-model-perspective.png)\n",
        "*There are many different ways to potentially improve a neural network. Some of the most common include: increasing the number of layers (making the network deeper), increasing the number of hidden units (making the network wider) and changing the learning rate. Because these values are all human-changeable, they're referred to as [hyperparameters](https://en.wikipedia.org/wiki/Hyperparameter_(machine_learning)) and the practice of trying to find the best hyperparameters is referred to as [hyperparameter tuning](https://en.wikipedia.org/wiki/Hyperparameter_optimization).*\n",
        "\n",
        "Woah. We just introduced a bunch of possible steps. The important thing to remember is how you alter each of these will depend on the problem you're working on.\n",
        "\n",
        "And the good thing is, over the next few problems, we'll get hands-on with all of them.\n",
        "\n",
        "For now, let's keep it simple, all we'll do is train our model for longer (everything else will stay the same)."
      ]
    },
    {
      "cell_type": "code",
      "metadata": {
        "colab": {
          "base_uri": "https://localhost:8080/"
        },
        "id": "Ww5UpvEme_8L",
        "outputId": "e1923281-9d08-4f61-f54b-83fa33d902f9"
      },
      "source": [
        "tf.random.set_seed(42)\n",
        "\n",
        "model = tf.keras.Sequential([\n",
        "                             tf.keras.layers.Dense(4),\n",
        "                             tf.keras.layers.Dense(1)\n",
        "])\n",
        "\n",
        "model.compile(optimizer=tf.keras.optimizers.SGD(),\n",
        "              loss=tf.keras.losses.mae,\n",
        "              metrics=[\"mae\"])\n",
        "\n",
        "model.fit(X,y, epochs=100)"
      ],
      "execution_count": 11,
      "outputs": [
        {
          "output_type": "stream",
          "text": [
            "Epoch 1/100\n",
            "1/1 [==============================] - 0s 349ms/step - loss: 13.8825 - mae: 13.8825\n",
            "Epoch 2/100\n",
            "1/1 [==============================] - 0s 22ms/step - loss: 13.6618 - mae: 13.6618\n",
            "Epoch 3/100\n",
            "1/1 [==============================] - 0s 9ms/step - loss: 13.4425 - mae: 13.4425\n",
            "Epoch 4/100\n",
            "1/1 [==============================] - 0s 4ms/step - loss: 13.2236 - mae: 13.2236\n",
            "Epoch 5/100\n",
            "1/1 [==============================] - 0s 8ms/step - loss: 13.0040 - mae: 13.0040\n",
            "Epoch 6/100\n",
            "1/1 [==============================] - 0s 8ms/step - loss: 12.7824 - mae: 12.7824\n",
            "Epoch 7/100\n",
            "1/1 [==============================] - 0s 8ms/step - loss: 12.5579 - mae: 12.5579\n",
            "Epoch 8/100\n",
            "1/1 [==============================] - 0s 6ms/step - loss: 12.3293 - mae: 12.3293\n",
            "Epoch 9/100\n",
            "1/1 [==============================] - 0s 8ms/step - loss: 12.0955 - mae: 12.0955\n",
            "Epoch 10/100\n",
            "1/1 [==============================] - 0s 6ms/step - loss: 11.8552 - mae: 11.8552\n",
            "Epoch 11/100\n",
            "1/1 [==============================] - 0s 6ms/step - loss: 11.6073 - mae: 11.6073\n",
            "Epoch 12/100\n",
            "1/1 [==============================] - 0s 6ms/step - loss: 11.3505 - mae: 11.3505\n",
            "Epoch 13/100\n",
            "1/1 [==============================] - 0s 8ms/step - loss: 11.0835 - mae: 11.0835\n",
            "Epoch 14/100\n",
            "1/1 [==============================] - 0s 5ms/step - loss: 10.8051 - mae: 10.8051\n",
            "Epoch 15/100\n",
            "1/1 [==============================] - 0s 6ms/step - loss: 10.5138 - mae: 10.5138\n",
            "Epoch 16/100\n",
            "1/1 [==============================] - 0s 8ms/step - loss: 10.2082 - mae: 10.2082\n",
            "Epoch 17/100\n",
            "1/1 [==============================] - 0s 5ms/step - loss: 9.8867 - mae: 9.8867\n",
            "Epoch 18/100\n",
            "1/1 [==============================] - 0s 8ms/step - loss: 9.5477 - mae: 9.5477\n",
            "Epoch 19/100\n",
            "1/1 [==============================] - 0s 9ms/step - loss: 9.1896 - mae: 9.1896\n",
            "Epoch 20/100\n",
            "1/1 [==============================] - 0s 6ms/step - loss: 8.8105 - mae: 8.8105\n",
            "Epoch 21/100\n",
            "1/1 [==============================] - 0s 9ms/step - loss: 8.4085 - mae: 8.4085\n",
            "Epoch 22/100\n",
            "1/1 [==============================] - 0s 6ms/step - loss: 7.9817 - mae: 7.9817\n",
            "Epoch 23/100\n",
            "1/1 [==============================] - 0s 13ms/step - loss: 7.5278 - mae: 7.5278\n",
            "Epoch 24/100\n",
            "1/1 [==============================] - 0s 6ms/step - loss: 7.0447 - mae: 7.0447\n",
            "Epoch 25/100\n",
            "1/1 [==============================] - 0s 7ms/step - loss: 6.9567 - mae: 6.9567\n",
            "Epoch 26/100\n",
            "1/1 [==============================] - 0s 7ms/step - loss: 6.9362 - mae: 6.9362\n",
            "Epoch 27/100\n",
            "1/1 [==============================] - 0s 6ms/step - loss: 6.9156 - mae: 6.9156\n",
            "Epoch 28/100\n",
            "1/1 [==============================] - 0s 7ms/step - loss: 6.8950 - mae: 6.8950\n",
            "Epoch 29/100\n",
            "1/1 [==============================] - 0s 8ms/step - loss: 6.8742 - mae: 6.8742\n",
            "Epoch 30/100\n",
            "1/1 [==============================] - 0s 8ms/step - loss: 6.8534 - mae: 6.8534\n",
            "Epoch 31/100\n",
            "1/1 [==============================] - 0s 6ms/step - loss: 6.8325 - mae: 6.8325\n",
            "Epoch 32/100\n",
            "1/1 [==============================] - 0s 7ms/step - loss: 6.8114 - mae: 6.8114\n",
            "Epoch 33/100\n",
            "1/1 [==============================] - 0s 7ms/step - loss: 6.7903 - mae: 6.7903\n",
            "Epoch 34/100\n",
            "1/1 [==============================] - 0s 7ms/step - loss: 6.7691 - mae: 6.7691\n",
            "Epoch 35/100\n",
            "1/1 [==============================] - 0s 8ms/step - loss: 6.7477 - mae: 6.7477\n",
            "Epoch 36/100\n",
            "1/1 [==============================] - 0s 8ms/step - loss: 6.7306 - mae: 6.7306\n",
            "Epoch 37/100\n",
            "1/1 [==============================] - 0s 7ms/step - loss: 6.7218 - mae: 6.7218\n",
            "Epoch 38/100\n",
            "1/1 [==============================] - 0s 6ms/step - loss: 6.7007 - mae: 6.7007\n",
            "Epoch 39/100\n",
            "1/1 [==============================] - 0s 9ms/step - loss: 6.6795 - mae: 6.6795\n",
            "Epoch 40/100\n",
            "1/1 [==============================] - 0s 5ms/step - loss: 6.6581 - mae: 6.6581\n",
            "Epoch 41/100\n",
            "1/1 [==============================] - 0s 6ms/step - loss: 6.6366 - mae: 6.6366\n",
            "Epoch 42/100\n",
            "1/1 [==============================] - 0s 6ms/step - loss: 6.6150 - mae: 6.6150\n",
            "Epoch 43/100\n",
            "1/1 [==============================] - 0s 10ms/step - loss: 6.5933 - mae: 6.5933\n",
            "Epoch 44/100\n",
            "1/1 [==============================] - 0s 11ms/step - loss: 6.5714 - mae: 6.5714\n",
            "Epoch 45/100\n",
            "1/1 [==============================] - 0s 12ms/step - loss: 6.5493 - mae: 6.5493\n",
            "Epoch 46/100\n",
            "1/1 [==============================] - 0s 6ms/step - loss: 6.5272 - mae: 6.5272\n",
            "Epoch 47/100\n",
            "1/1 [==============================] - 0s 6ms/step - loss: 6.5048 - mae: 6.5048\n",
            "Epoch 48/100\n",
            "1/1 [==============================] - 0s 6ms/step - loss: 6.4823 - mae: 6.4823\n",
            "Epoch 49/100\n",
            "1/1 [==============================] - 0s 6ms/step - loss: 6.4597 - mae: 6.4597\n",
            "Epoch 50/100\n",
            "1/1 [==============================] - 0s 7ms/step - loss: 6.4369 - mae: 6.4369\n",
            "Epoch 51/100\n",
            "1/1 [==============================] - 0s 6ms/step - loss: 6.4139 - mae: 6.4139\n",
            "Epoch 52/100\n",
            "1/1 [==============================] - 0s 9ms/step - loss: 6.3908 - mae: 6.3908\n",
            "Epoch 53/100\n",
            "1/1 [==============================] - 0s 7ms/step - loss: 6.3820 - mae: 6.3820\n",
            "Epoch 54/100\n",
            "1/1 [==============================] - 0s 6ms/step - loss: 6.3659 - mae: 6.3659\n",
            "Epoch 55/100\n",
            "1/1 [==============================] - 0s 8ms/step - loss: 6.3428 - mae: 6.3428\n",
            "Epoch 56/100\n",
            "1/1 [==============================] - 0s 7ms/step - loss: 6.3196 - mae: 6.3196\n",
            "Epoch 57/100\n",
            "1/1 [==============================] - 0s 16ms/step - loss: 6.2961 - mae: 6.2961\n",
            "Epoch 58/100\n",
            "1/1 [==============================] - 0s 8ms/step - loss: 6.2725 - mae: 6.2725\n",
            "Epoch 59/100\n",
            "1/1 [==============================] - 0s 13ms/step - loss: 6.2487 - mae: 6.2487\n",
            "Epoch 60/100\n",
            "1/1 [==============================] - 0s 11ms/step - loss: 6.2247 - mae: 6.2247\n",
            "Epoch 61/100\n",
            "1/1 [==============================] - 0s 9ms/step - loss: 6.2005 - mae: 6.2005\n",
            "Epoch 62/100\n",
            "1/1 [==============================] - 0s 8ms/step - loss: 6.1761 - mae: 6.1761\n",
            "Epoch 63/100\n",
            "1/1 [==============================] - 0s 8ms/step - loss: 6.1514 - mae: 6.1514\n",
            "Epoch 64/100\n",
            "1/1 [==============================] - 0s 6ms/step - loss: 6.1266 - mae: 6.1266\n",
            "Epoch 65/100\n",
            "1/1 [==============================] - 0s 9ms/step - loss: 6.1015 - mae: 6.1015\n",
            "Epoch 66/100\n",
            "1/1 [==============================] - 0s 6ms/step - loss: 6.0763 - mae: 6.0763\n",
            "Epoch 67/100\n",
            "1/1 [==============================] - 0s 15ms/step - loss: 6.0724 - mae: 6.0724\n",
            "Epoch 68/100\n",
            "1/1 [==============================] - 0s 9ms/step - loss: 6.0506 - mae: 6.0506\n",
            "Epoch 69/100\n",
            "1/1 [==============================] - 0s 9ms/step - loss: 6.0253 - mae: 6.0253\n",
            "Epoch 70/100\n",
            "1/1 [==============================] - 0s 5ms/step - loss: 5.9997 - mae: 5.9997\n",
            "Epoch 71/100\n",
            "1/1 [==============================] - 0s 8ms/step - loss: 5.9739 - mae: 5.9739\n",
            "Epoch 72/100\n",
            "1/1 [==============================] - 0s 7ms/step - loss: 5.9478 - mae: 5.9478\n",
            "Epoch 73/100\n",
            "1/1 [==============================] - 0s 10ms/step - loss: 5.9215 - mae: 5.9215\n",
            "Epoch 74/100\n",
            "1/1 [==============================] - 0s 6ms/step - loss: 5.8949 - mae: 5.8949\n",
            "Epoch 75/100\n",
            "1/1 [==============================] - 0s 4ms/step - loss: 5.8681 - mae: 5.8681\n",
            "Epoch 76/100\n",
            "1/1 [==============================] - 0s 5ms/step - loss: 5.8410 - mae: 5.8410\n",
            "Epoch 77/100\n",
            "1/1 [==============================] - 0s 5ms/step - loss: 5.8136 - mae: 5.8136\n",
            "Epoch 78/100\n",
            "1/1 [==============================] - 0s 5ms/step - loss: 5.7860 - mae: 5.7860\n",
            "Epoch 79/100\n",
            "1/1 [==============================] - 0s 4ms/step - loss: 5.7744 - mae: 5.7744\n",
            "Epoch 80/100\n",
            "1/1 [==============================] - 0s 6ms/step - loss: 5.7585 - mae: 5.7585\n",
            "Epoch 81/100\n",
            "1/1 [==============================] - 0s 7ms/step - loss: 5.7307 - mae: 5.7307\n",
            "Epoch 82/100\n",
            "1/1 [==============================] - 0s 5ms/step - loss: 5.7025 - mae: 5.7025\n",
            "Epoch 83/100\n",
            "1/1 [==============================] - 0s 4ms/step - loss: 5.6741 - mae: 5.6741\n",
            "Epoch 84/100\n",
            "1/1 [==============================] - 0s 5ms/step - loss: 5.6454 - mae: 5.6454\n",
            "Epoch 85/100\n",
            "1/1 [==============================] - 0s 5ms/step - loss: 5.6163 - mae: 5.6163\n",
            "Epoch 86/100\n",
            "1/1 [==============================] - 0s 9ms/step - loss: 5.5870 - mae: 5.5870\n",
            "Epoch 87/100\n",
            "1/1 [==============================] - 0s 7ms/step - loss: 5.5573 - mae: 5.5573\n",
            "Epoch 88/100\n",
            "1/1 [==============================] - 0s 8ms/step - loss: 5.5274 - mae: 5.5274\n",
            "Epoch 89/100\n",
            "1/1 [==============================] - 0s 13ms/step - loss: 5.4971 - mae: 5.4971\n",
            "Epoch 90/100\n",
            "1/1 [==============================] - 0s 8ms/step - loss: 5.4741 - mae: 5.4741\n",
            "Epoch 91/100\n",
            "1/1 [==============================] - 0s 6ms/step - loss: 5.4668 - mae: 5.4668\n",
            "Epoch 92/100\n",
            "1/1 [==============================] - 0s 17ms/step - loss: 5.4361 - mae: 5.4361\n",
            "Epoch 93/100\n",
            "1/1 [==============================] - 0s 8ms/step - loss: 5.4051 - mae: 5.4051\n",
            "Epoch 94/100\n",
            "1/1 [==============================] - 0s 13ms/step - loss: 5.3738 - mae: 5.3738\n",
            "Epoch 95/100\n",
            "1/1 [==============================] - 0s 10ms/step - loss: 5.3421 - mae: 5.3421\n",
            "Epoch 96/100\n",
            "1/1 [==============================] - 0s 6ms/step - loss: 5.3100 - mae: 5.3100\n",
            "Epoch 97/100\n",
            "1/1 [==============================] - 0s 13ms/step - loss: 5.2776 - mae: 5.2776\n",
            "Epoch 98/100\n",
            "1/1 [==============================] - 0s 14ms/step - loss: 5.2448 - mae: 5.2448\n",
            "Epoch 99/100\n",
            "1/1 [==============================] - 0s 15ms/step - loss: 5.2117 - mae: 5.2117\n",
            "Epoch 100/100\n",
            "1/1 [==============================] - 0s 6ms/step - loss: 5.1782 - mae: 5.1782\n"
          ],
          "name": "stdout"
        },
        {
          "output_type": "execute_result",
          "data": {
            "text/plain": [
              "<keras.callbacks.History at 0x7f4b18e5c750>"
            ]
          },
          "metadata": {},
          "execution_count": 11
        }
      ]
    },
    {
      "cell_type": "code",
      "metadata": {
        "colab": {
          "base_uri": "https://localhost:8080/"
        },
        "id": "oemHxmQHfVFf",
        "outputId": "462c399c-70ae-4d2a-9d59-b8127826c81b"
      },
      "source": [
        "model.summary()"
      ],
      "execution_count": 12,
      "outputs": [
        {
          "output_type": "stream",
          "text": [
            "Model: \"sequential_1\"\n",
            "_________________________________________________________________\n",
            "Layer (type)                 Output Shape              Param #   \n",
            "=================================================================\n",
            "dense_1 (Dense)              (None, 4)                 8         \n",
            "_________________________________________________________________\n",
            "dense_2 (Dense)              (None, 1)                 5         \n",
            "=================================================================\n",
            "Total params: 13\n",
            "Trainable params: 13\n",
            "Non-trainable params: 0\n",
            "_________________________________________________________________\n"
          ],
          "name": "stdout"
        }
      ]
    },
    {
      "cell_type": "code",
      "metadata": {
        "colab": {
          "base_uri": "https://localhost:8080/"
        },
        "id": "SUp62mBXf4ge",
        "outputId": "05807742-6281-4b91-a740-da9ba4bdb7d4"
      },
      "source": [
        "model.predict([17])"
      ],
      "execution_count": 13,
      "outputs": [
        {
          "output_type": "execute_result",
          "data": {
            "text/plain": [
              "array([[30.848078]], dtype=float32)"
            ]
          },
          "metadata": {},
          "execution_count": 13
        }
      ]
    },
    {
      "cell_type": "markdown",
      "metadata": {
        "id": "vTLtEryYhGgo"
      },
      "source": [
        "## Evaluating a model \n",
        "\n",
        "A typical workflow you'll go through when building neural networks is:\n",
        "\n",
        "```\n",
        "Build a model -> evaluate it -> build (tweak) a model -> evaulate it -> build (tweak) a model -> evaluate it...\n",
        "```\n",
        "\n",
        "The tweaking comes from maybe not building a model from scratch but adjusting an existing one.\n",
        "\n",
        "### Visualize, visualize, visualize\n",
        "\n",
        "When it comes to evaluation, you'll want to remember the words: \"visualize, visualize, visualize.\" \n",
        "\n",
        "This is because you're probably better looking at something (doing) than you are thinking about something.\n",
        "\n",
        "It's a good idea to visualize:\n",
        "* **The data** - what data are you working with? What does it look like?\n",
        "* **The model itself** - what does the architecture look like? What are the different shapes?\n",
        "* **The training of a model** - how does a model perform while it learns?\n",
        "* **The predictions of a model** - how do the predictions of a model line up against the ground truth (the original labels)?\n",
        "\n",
        "Let's start by visualizing the model.\n",
        "\n",
        "But first, we'll create a little bit of a bigger dataset and a new model we can use (it'll be the same as before, but the more practice the better).\n"
      ]
    },
    {
      "cell_type": "code",
      "metadata": {
        "id": "-FX5rVt_gmD4"
      },
      "source": [
        "##making a biger dataset\n",
        "\n",
        "X = np.arange(-100,100, 4)\n",
        "y = np.arange(-90, 110, 4)\n"
      ],
      "execution_count": 14,
      "outputs": []
    },
    {
      "cell_type": "code",
      "metadata": {
        "colab": {
          "base_uri": "https://localhost:8080/"
        },
        "id": "9nK6vz1-hcWJ",
        "outputId": "9763bb76-89af-4be5-9557-7ce84211fa75"
      },
      "source": [
        "X.shape, y.shape"
      ],
      "execution_count": 15,
      "outputs": [
        {
          "output_type": "execute_result",
          "data": {
            "text/plain": [
              "((50,), (50,))"
            ]
          },
          "metadata": {},
          "execution_count": 15
        }
      ]
    },
    {
      "cell_type": "markdown",
      "metadata": {
        "id": "xQiy6CUJhgEX"
      },
      "source": [
        "## Split data into training/test set\n",
        "\n",
        "One of the other most common and important steps in a machine learning project is creating a training and test set (and when required, a validation set).\n",
        "\n",
        "Each set serves a specific purpose:\n",
        "* **Training set** - the model learns from this data, which is typically 70-80% of the total data available (like the course materials you study during the semester).\n",
        "* **Validation set** - the model gets tuned on this data, which is typically 10-15% of the total data available (like the practice exam you take before the final exam).\n",
        "* **Test set** - the model gets evaluated on this data to test what it has learned, it's typically 10-15% of the total data available (like the final exam you take at the end of the semester).\n",
        "\n",
        "For now, we'll just use a training and test set, this means we'll have a dataset for our model to learn on as well as be evaluated on.\n",
        "\n",
        "We can create them by splitting our `X` and `y` arrays.\n",
        "\n",
        "> 🔑 **Note:** When dealing with real-world data, this step is typically done right at the start of a project (the test set should always be kept separate from all other data). We want our model to learn on training data and then evaluate it on test data to get an indication of how well it **generalizes** to unseen examples."
      ]
    },
    {
      "cell_type": "code",
      "metadata": {
        "id": "5j5LQq8Ah4Qc"
      },
      "source": [
        "from sklearn.model_selection import train_test_split\n",
        "\n",
        "X_train, X_test, y_train, y_test = train_test_split(X,y, test_size=0.2)"
      ],
      "execution_count": 16,
      "outputs": []
    },
    {
      "cell_type": "code",
      "metadata": {
        "colab": {
          "base_uri": "https://localhost:8080/"
        },
        "id": "sjteKlliiWUw",
        "outputId": "58b21b45-00e2-46ab-e9c1-14ef269e433d"
      },
      "source": [
        "len(X_train), len(y_train)"
      ],
      "execution_count": 17,
      "outputs": [
        {
          "output_type": "execute_result",
          "data": {
            "text/plain": [
              "(40, 40)"
            ]
          },
          "metadata": {},
          "execution_count": 17
        }
      ]
    },
    {
      "cell_type": "code",
      "metadata": {
        "colab": {
          "base_uri": "https://localhost:8080/",
          "height": 265
        },
        "id": "OAG1jvQUiapn",
        "outputId": "e5016afe-e90a-4fdb-ecc1-ad5ac851d113"
      },
      "source": [
        "plt.scatter(X_train, y_train, c='b', label='Training Data')\n",
        "plt.scatter(X_test, y_test, c='g', label='Test Data')\n",
        "plt.legend();"
      ],
      "execution_count": 18,
      "outputs": [
        {
          "output_type": "display_data",
          "data": {
            "image/png": "[encoded data removed]",
            "text/plain": [
              "<Figure size 432x288 with 1 Axes>"
            ]
          },
          "metadata": {
            "needs_background": "light"
          }
        }
      ]
    },
    {
      "cell_type": "markdown",
      "metadata": {
        "id": "Y2fR5I2Aiz83"
      },
      "source": [
        "With this graph in mind, what we'll be trying to do is build a model which learns the pattern in the blue dots (`X_train`) to draw the green dots (`X_test`)."
      ]
    },
    {
      "cell_type": "code",
      "metadata": {
        "colab": {
          "base_uri": "https://localhost:8080/"
        },
        "id": "yQ_k5WEtjKSP",
        "outputId": "f15b74bb-0ccb-4d79-8a3c-d460ff8eb434"
      },
      "source": [
        "tf.random.set_seed(42)\n",
        "\n",
        "model = tf.keras.Sequential([\n",
        "                             tf.keras.layers.Dense(1)\n",
        "])\n",
        "\n",
        "model.compile(optimizer=tf.keras.optimizers.SGD(),\n",
        "              loss=tf.keras.losses.mae,\n",
        "              metrics=[\"mae\"])\n",
        "\n",
        "model.fit(X,y, epochs=100)"
      ],
      "execution_count": 19,
      "outputs": [
        {
          "output_type": "stream",
          "text": [
            "Epoch 1/100\n",
            "2/2 [==============================] - 0s 4ms/step - loss: 19.0311 - mae: 19.0311\n",
            "Epoch 2/100\n",
            "2/2 [==============================] - 0s 11ms/step - loss: 10.8111 - mae: 10.8111\n",
            "Epoch 3/100\n",
            "2/2 [==============================] - 0s 13ms/step - loss: 14.5005 - mae: 14.5005\n",
            "Epoch 4/100\n",
            "2/2 [==============================] - 0s 4ms/step - loss: 10.0958 - mae: 10.0958\n",
            "Epoch 5/100\n",
            "2/2 [==============================] - 0s 12ms/step - loss: 15.5388 - mae: 15.5388\n",
            "Epoch 6/100\n",
            "2/2 [==============================] - 0s 13ms/step - loss: 11.8626 - mae: 11.8626\n",
            "Epoch 7/100\n",
            "2/2 [==============================] - 0s 5ms/step - loss: 9.1727 - mae: 9.1727\n",
            "Epoch 8/100\n",
            "2/2 [==============================] - 0s 5ms/step - loss: 13.6143 - mae: 13.6143\n",
            "Epoch 9/100\n",
            "2/2 [==============================] - 0s 9ms/step - loss: 13.8577 - mae: 13.8577\n",
            "Epoch 10/100\n",
            "2/2 [==============================] - 0s 7ms/step - loss: 9.9966 - mae: 9.9966\n",
            "Epoch 11/100\n",
            "2/2 [==============================] - 0s 4ms/step - loss: 9.9685 - mae: 9.9685\n",
            "Epoch 12/100\n",
            "2/2 [==============================] - 0s 3ms/step - loss: 9.9097 - mae: 9.9097\n",
            "Epoch 13/100\n",
            "2/2 [==============================] - 0s 8ms/step - loss: 9.7478 - mae: 9.7478\n",
            "Epoch 14/100\n",
            "2/2 [==============================] - 0s 4ms/step - loss: 10.5485 - mae: 10.5485\n",
            "Epoch 15/100\n",
            "2/2 [==============================] - 0s 10ms/step - loss: 13.7915 - mae: 13.7915\n",
            "Epoch 16/100\n",
            "2/2 [==============================] - 0s 9ms/step - loss: 12.5861 - mae: 12.5861\n",
            "Epoch 17/100\n",
            "2/2 [==============================] - 0s 3ms/step - loss: 10.2180 - mae: 10.2180\n",
            "Epoch 18/100\n",
            "2/2 [==============================] - 0s 5ms/step - loss: 10.1329 - mae: 10.1329\n",
            "Epoch 19/100\n",
            "2/2 [==============================] - 0s 5ms/step - loss: 9.9154 - mae: 9.9154\n",
            "Epoch 20/100\n",
            "2/2 [==============================] - 0s 9ms/step - loss: 12.7204 - mae: 12.7204\n",
            "Epoch 21/100\n",
            "2/2 [==============================] - 0s 8ms/step - loss: 12.9522 - mae: 12.9522\n",
            "Epoch 22/100\n",
            "2/2 [==============================] - 0s 15ms/step - loss: 9.5668 - mae: 9.5668\n",
            "Epoch 23/100\n",
            "2/2 [==============================] - 0s 4ms/step - loss: 9.3870 - mae: 9.3870\n",
            "Epoch 24/100\n",
            "2/2 [==============================] - 0s 4ms/step - loss: 9.7060 - mae: 9.7060\n",
            "Epoch 25/100\n",
            "2/2 [==============================] - 0s 6ms/step - loss: 9.6024 - mae: 9.6024\n",
            "Epoch 26/100\n",
            "2/2 [==============================] - 0s 4ms/step - loss: 9.4918 - mae: 9.4918\n",
            "Epoch 27/100\n",
            "2/2 [==============================] - 0s 4ms/step - loss: 9.7140 - mae: 9.7140\n",
            "Epoch 28/100\n",
            "2/2 [==============================] - 0s 4ms/step - loss: 9.5882 - mae: 9.5882\n",
            "Epoch 29/100\n",
            "2/2 [==============================] - 0s 4ms/step - loss: 9.4746 - mae: 9.4746\n",
            "Epoch 30/100\n",
            "2/2 [==============================] - 0s 4ms/step - loss: 10.0289 - mae: 10.0289\n",
            "Epoch 31/100\n",
            "2/2 [==============================] - 0s 4ms/step - loss: 13.3862 - mae: 13.3862\n",
            "Epoch 32/100\n",
            "2/2 [==============================] - 0s 4ms/step - loss: 9.6345 - mae: 9.6345\n",
            "Epoch 33/100\n",
            "2/2 [==============================] - 0s 7ms/step - loss: 9.5676 - mae: 9.5676\n",
            "Epoch 34/100\n",
            "2/2 [==============================] - 0s 4ms/step - loss: 9.8932 - mae: 9.8932\n",
            "Epoch 35/100\n",
            "2/2 [==============================] - 0s 5ms/step - loss: 10.1582 - mae: 10.1582\n",
            "Epoch 36/100\n",
            "2/2 [==============================] - 0s 4ms/step - loss: 9.5081 - mae: 9.5081\n",
            "Epoch 37/100\n",
            "2/2 [==============================] - 0s 4ms/step - loss: 9.4231 - mae: 9.4231\n",
            "Epoch 38/100\n",
            "2/2 [==============================] - 0s 4ms/step - loss: 9.6222 - mae: 9.6222\n",
            "Epoch 39/100\n",
            "2/2 [==============================] - 0s 4ms/step - loss: 10.3634 - mae: 10.3634\n",
            "Epoch 40/100\n",
            "2/2 [==============================] - 0s 5ms/step - loss: 11.5608 - mae: 11.5608\n",
            "Epoch 41/100\n",
            "2/2 [==============================] - 0s 4ms/step - loss: 9.7365 - mae: 9.7365\n",
            "Epoch 42/100\n",
            "2/2 [==============================] - 0s 5ms/step - loss: 9.3273 - mae: 9.3273\n",
            "Epoch 43/100\n",
            "2/2 [==============================] - 0s 10ms/step - loss: 9.1406 - mae: 9.1406\n",
            "Epoch 44/100\n",
            "2/2 [==============================] - 0s 4ms/step - loss: 9.5279 - mae: 9.5279\n",
            "Epoch 45/100\n",
            "2/2 [==============================] - 0s 7ms/step - loss: 9.6614 - mae: 9.6614\n",
            "Epoch 46/100\n",
            "2/2 [==============================] - 0s 8ms/step - loss: 9.1543 - mae: 9.1543\n",
            "Epoch 47/100\n",
            "2/2 [==============================] - 0s 8ms/step - loss: 9.0604 - mae: 9.0604\n",
            "Epoch 48/100\n",
            "2/2 [==============================] - 0s 10ms/step - loss: 8.7624 - mae: 8.7624\n",
            "Epoch 49/100\n",
            "2/2 [==============================] - 0s 4ms/step - loss: 10.8369 - mae: 10.8369\n",
            "Epoch 50/100\n",
            "2/2 [==============================] - 0s 6ms/step - loss: 8.8573 - mae: 8.8573\n",
            "Epoch 51/100\n",
            "2/2 [==============================] - 0s 9ms/step - loss: 10.3175 - mae: 10.3175\n",
            "Epoch 52/100\n",
            "2/2 [==============================] - 0s 4ms/step - loss: 14.8285 - mae: 14.8285\n",
            "Epoch 53/100\n",
            "2/2 [==============================] - 0s 16ms/step - loss: 8.7053 - mae: 8.7053\n",
            "Epoch 54/100\n",
            "2/2 [==============================] - 0s 10ms/step - loss: 9.4249 - mae: 9.4249\n",
            "Epoch 55/100\n",
            "2/2 [==============================] - 0s 7ms/step - loss: 9.8385 - mae: 9.8385\n",
            "Epoch 56/100\n",
            "2/2 [==============================] - 0s 8ms/step - loss: 12.1663 - mae: 12.1663\n",
            "Epoch 57/100\n",
            "2/2 [==============================] - 0s 9ms/step - loss: 16.1752 - mae: 16.1752\n",
            "Epoch 58/100\n",
            "2/2 [==============================] - 0s 5ms/step - loss: 15.0076 - mae: 15.0076\n",
            "Epoch 59/100\n",
            "2/2 [==============================] - 0s 8ms/step - loss: 15.3698 - mae: 15.3698\n",
            "Epoch 60/100\n",
            "2/2 [==============================] - 0s 5ms/step - loss: 12.5261 - mae: 12.5261\n",
            "Epoch 61/100\n",
            "2/2 [==============================] - 0s 5ms/step - loss: 13.0420 - mae: 13.0420\n",
            "Epoch 62/100\n",
            "2/2 [==============================] - 0s 9ms/step - loss: 10.2323 - mae: 10.2323\n",
            "Epoch 63/100\n",
            "2/2 [==============================] - 0s 19ms/step - loss: 12.0069 - mae: 12.0069\n",
            "Epoch 64/100\n",
            "2/2 [==============================] - 0s 8ms/step - loss: 9.5151 - mae: 9.5151\n",
            "Epoch 65/100\n",
            "2/2 [==============================] - 0s 6ms/step - loss: 8.9926 - mae: 8.9926\n",
            "Epoch 66/100\n",
            "2/2 [==============================] - 0s 8ms/step - loss: 8.9825 - mae: 8.9825\n",
            "Epoch 67/100\n",
            "2/2 [==============================] - 0s 7ms/step - loss: 9.1020 - mae: 9.1020\n",
            "Epoch 68/100\n",
            "2/2 [==============================] - 0s 5ms/step - loss: 9.2138 - mae: 9.2138\n",
            "Epoch 69/100\n",
            "2/2 [==============================] - 0s 4ms/step - loss: 9.2091 - mae: 9.2091\n",
            "Epoch 70/100\n",
            "2/2 [==============================] - 0s 4ms/step - loss: 9.4690 - mae: 9.4690\n",
            "Epoch 71/100\n",
            "2/2 [==============================] - 0s 6ms/step - loss: 8.9142 - mae: 8.9142\n",
            "Epoch 72/100\n",
            "2/2 [==============================] - 0s 8ms/step - loss: 9.9897 - mae: 9.9897\n",
            "Epoch 73/100\n",
            "2/2 [==============================] - 0s 15ms/step - loss: 11.9300 - mae: 11.9300\n",
            "Epoch 74/100\n",
            "2/2 [==============================] - 0s 14ms/step - loss: 8.5859 - mae: 8.5859\n",
            "Epoch 75/100\n",
            "2/2 [==============================] - 0s 10ms/step - loss: 8.7776 - mae: 8.7776\n",
            "Epoch 76/100\n",
            "2/2 [==============================] - 0s 4ms/step - loss: 8.8232 - mae: 8.8232\n",
            "Epoch 77/100\n",
            "2/2 [==============================] - 0s 5ms/step - loss: 8.1895 - mae: 8.1895\n",
            "Epoch 78/100\n",
            "2/2 [==============================] - 0s 8ms/step - loss: 11.2235 - mae: 11.2235\n",
            "Epoch 79/100\n",
            "2/2 [==============================] - 0s 4ms/step - loss: 9.5682 - mae: 9.5682\n",
            "Epoch 80/100\n",
            "2/2 [==============================] - 0s 6ms/step - loss: 13.1783 - mae: 13.1783\n",
            "Epoch 81/100\n",
            "2/2 [==============================] - 0s 5ms/step - loss: 14.3245 - mae: 14.3245\n",
            "Epoch 82/100\n",
            "2/2 [==============================] - 0s 5ms/step - loss: 16.2560 - mae: 16.2560\n",
            "Epoch 83/100\n",
            "2/2 [==============================] - 0s 4ms/step - loss: 9.5568 - mae: 9.5568\n",
            "Epoch 84/100\n",
            "2/2 [==============================] - 0s 5ms/step - loss: 8.6519 - mae: 8.6519\n",
            "Epoch 85/100\n",
            "2/2 [==============================] - 0s 4ms/step - loss: 8.7552 - mae: 8.7552\n",
            "Epoch 86/100\n",
            "2/2 [==============================] - 0s 6ms/step - loss: 9.0234 - mae: 9.0234\n",
            "Epoch 87/100\n",
            "2/2 [==============================] - 0s 4ms/step - loss: 9.1794 - mae: 9.1794\n",
            "Epoch 88/100\n",
            "2/2 [==============================] - 0s 6ms/step - loss: 8.7276 - mae: 8.7276\n",
            "Epoch 89/100\n",
            "2/2 [==============================] - 0s 5ms/step - loss: 8.8707 - mae: 8.8707\n",
            "Epoch 90/100\n",
            "2/2 [==============================] - 0s 7ms/step - loss: 8.6802 - mae: 8.6802\n",
            "Epoch 91/100\n",
            "2/2 [==============================] - 0s 4ms/step - loss: 8.7301 - mae: 8.7301\n",
            "Epoch 92/100\n",
            "2/2 [==============================] - 0s 7ms/step - loss: 8.5968 - mae: 8.5968\n",
            "Epoch 93/100\n",
            "2/2 [==============================] - 0s 4ms/step - loss: 9.1886 - mae: 9.1886\n",
            "Epoch 94/100\n",
            "2/2 [==============================] - 0s 5ms/step - loss: 9.9125 - mae: 9.9125\n",
            "Epoch 95/100\n",
            "2/2 [==============================] - 0s 4ms/step - loss: 12.8242 - mae: 12.8242\n",
            "Epoch 96/100\n",
            "2/2 [==============================] - 0s 4ms/step - loss: 9.1602 - mae: 9.1602\n",
            "Epoch 97/100\n",
            "2/2 [==============================] - 0s 9ms/step - loss: 10.5435 - mae: 10.5435\n",
            "Epoch 98/100\n",
            "2/2 [==============================] - 0s 4ms/step - loss: 14.7497 - mae: 14.7497\n",
            "Epoch 99/100\n",
            "2/2 [==============================] - 0s 4ms/step - loss: 10.8591 - mae: 10.8591\n",
            "Epoch 100/100\n",
            "2/2 [==============================] - 0s 6ms/step - loss: 14.9030 - mae: 14.9030\n"
          ],
          "name": "stdout"
        },
        {
          "output_type": "execute_result",
          "data": {
            "text/plain": [
              "<keras.callbacks.History at 0x7f4b177967d0>"
            ]
          },
          "metadata": {},
          "execution_count": 19
        }
      ]
    },
    {
      "cell_type": "code",
      "metadata": {
        "colab": {
          "base_uri": "https://localhost:8080/"
        },
        "id": "XJiPe3CWjj4c",
        "outputId": "64004bad-3c1e-4ca7-fa37-14846fdd1094"
      },
      "source": [
        "model.summary()"
      ],
      "execution_count": 20,
      "outputs": [
        {
          "output_type": "stream",
          "text": [
            "Model: \"sequential_2\"\n",
            "_________________________________________________________________\n",
            "Layer (type)                 Output Shape              Param #   \n",
            "=================================================================\n",
            "dense_3 (Dense)              (None, 1)                 2         \n",
            "=================================================================\n",
            "Total params: 2\n",
            "Trainable params: 2\n",
            "Non-trainable params: 0\n",
            "_________________________________________________________________\n"
          ],
          "name": "stdout"
        }
      ]
    },
    {
      "cell_type": "code",
      "metadata": {
        "colab": {
          "base_uri": "https://localhost:8080/"
        },
        "id": "FT52BoHwj8E_",
        "outputId": "b31e461b-98f9-4392-9f85-3bb2d2f5c50d"
      },
      "source": [
        "tf.random.set_seed(42)\n",
        "\n",
        "model = tf.keras.Sequential([\n",
        "                             tf.keras.layers.Dense(1, input_shape=[1])\n",
        "])\n",
        "\n",
        "model.compile(optimizer=tf.keras.optimizers.SGD(),\n",
        "              loss=tf.keras.losses.mae,\n",
        "              metrics=[\"mae\"])\n",
        "\n",
        "model.summary()  #since we have define the input shape, we can see the summary"
      ],
      "execution_count": 21,
      "outputs": [
        {
          "output_type": "stream",
          "text": [
            "Model: \"sequential_3\"\n",
            "_________________________________________________________________\n",
            "Layer (type)                 Output Shape              Param #   \n",
            "=================================================================\n",
            "dense_4 (Dense)              (None, 1)                 2         \n",
            "=================================================================\n",
            "Total params: 2\n",
            "Trainable params: 2\n",
            "Non-trainable params: 0\n",
            "_________________________________________________________________\n"
          ],
          "name": "stdout"
        }
      ]
    },
    {
      "cell_type": "markdown",
      "metadata": {
        "id": "Co2v17sokKPg"
      },
      "source": [
        "Calling `summary()` on our model shows us the layers it contains, the output shape and the number of parameters.\n",
        "* **Total params** - total number of parameters in the model.\n",
        "* **Trainable parameters** - these are the parameters (patterns) the model can update as it trains.\n",
        "* **Non-trainable parameters** - these parameters aren't updated during training (this is typical when you bring in the already learned patterns from other models during transfer learning).\n",
        "\n",
        "> 📖 **Resource:** For a more in-depth overview of the trainable parameters within a layer, check out [MIT's introduction to deep learning video](https://youtu.be/njKP3FqW3Sk)."
      ]
    },
    {
      "cell_type": "code",
      "metadata": {
        "colab": {
          "base_uri": "https://localhost:8080/"
        },
        "id": "SkgjvKmVkWW8",
        "outputId": "fef01117-ca0a-4ac6-b82c-80266c01f0e9"
      },
      "source": [
        "# Fit the model to the training data\n",
        "model.fit(X_train, y_train, epochs=100, verbose=0) # verbose controls how much gets output"
      ],
      "execution_count": 22,
      "outputs": [
        {
          "output_type": "execute_result",
          "data": {
            "text/plain": [
              "<keras.callbacks.History at 0x7f4b17722090>"
            ]
          },
          "metadata": {},
          "execution_count": 22
        }
      ]
    },
    {
      "cell_type": "code",
      "metadata": {
        "id": "zzAmldYNkfR_"
      },
      "source": [
        "from tensorflow.keras.utils import plot_model"
      ],
      "execution_count": 23,
      "outputs": []
    },
    {
      "cell_type": "code",
      "metadata": {
        "colab": {
          "base_uri": "https://localhost:8080/",
          "height": 201
        },
        "id": "Zo9ZLcyKkmkQ",
        "outputId": "0c71daef-5afb-4d39-93dd-fa78a2fd9120"
      },
      "source": [
        "plot_model(model, show_shapes=True)"
      ],
      "execution_count": 24,
      "outputs": [
        {
          "output_type": "execute_result",
          "data": {
            "image/png": "[encoded data removed]",
            "text/plain": [
              "<IPython.core.display.Image object>"
            ]
          },
          "metadata": {},
          "execution_count": 24
        }
      ]
    },
    {
      "cell_type": "code",
      "metadata": {
        "id": "DtomVt68kpKo"
      },
      "source": [
        "y_preds = model.predict(X_test)"
      ],
      "execution_count": 25,
      "outputs": []
    },
    {
      "cell_type": "code",
      "metadata": {
        "colab": {
          "base_uri": "https://localhost:8080/"
        },
        "id": "TXQKtM6JSek7",
        "outputId": "8a3914d0-0840-4e7b-86bc-d7c92706dd08"
      },
      "source": [
        "y_test"
      ],
      "execution_count": 31,
      "outputs": [
        {
          "output_type": "execute_result",
          "data": {
            "text/plain": [
              "array([  2,  34, -46,  22,  26, -82,  -6,  66, -18,  14])"
            ]
          },
          "metadata": {},
          "execution_count": 31
        }
      ]
    },
    {
      "cell_type": "code",
      "metadata": {
        "colab": {
          "base_uri": "https://localhost:8080/"
        },
        "id": "tEyOc5N4kzLK",
        "outputId": "1998865a-3a20-45d8-a562-55de8e40fe02"
      },
      "source": [
        "y_preds"
      ],
      "execution_count": 26,
      "outputs": [
        {
          "output_type": "execute_result",
          "data": {
            "text/plain": [
              "array([[  -8.147981],\n",
              "       [  29.173943],\n",
              "       [ -64.13086 ],\n",
              "       [  15.178221],\n",
              "       [  19.84346 ],\n",
              "       [-106.11803 ],\n",
              "       [ -17.478462],\n",
              "       [  66.495865],\n",
              "       [ -31.474182],\n",
              "       [   5.84774 ]], dtype=float32)"
            ]
          },
          "metadata": {},
          "execution_count": 26
        }
      ]
    },
    {
      "cell_type": "code",
      "metadata": {
        "id": "wctBuMI2k1WX"
      },
      "source": [
        "def plot_predictions(train_data=X_train, \n",
        "                     train_labels=y_train, \n",
        "                     test_data=X_test, \n",
        "                     test_labels=y_test, \n",
        "                     predictions=y_preds):\n",
        "  \"\"\"\n",
        "  Plots training data, test data and compares predictions.\n",
        "  \"\"\"\n",
        "  plt.figure(figsize=(10, 7))\n",
        "  # Plot training data in blue\n",
        "  plt.scatter(train_data, train_labels, c=\"b\", label=\"Training data\")\n",
        "  # Plot test data in green\n",
        "  plt.scatter(test_data, test_labels, c=\"g\", label=\"Testing data\")\n",
        "  # Plot the predictions in red (predictions were made on the test data)\n",
        "  plt.scatter(test_data, predictions, c=\"r\", label=\"Predictions\")\n",
        "  # Show the legend\n",
        "  plt.legend();"
      ],
      "execution_count": 27,
      "outputs": []
    },
    {
      "cell_type": "code",
      "metadata": {
        "colab": {
          "base_uri": "https://localhost:8080/",
          "height": 428
        },
        "id": "VIabSjp8k_CR",
        "outputId": "6294adb4-b84e-4b82-afec-71f8dc520d7a"
      },
      "source": [
        "plot_predictions(train_data=X_train,\n",
        "                 train_labels=y_train,\n",
        "                 test_data=X_test,\n",
        "                 test_labels=y_test,\n",
        "                 predictions=y_preds)"
      ],
      "execution_count": 28,
      "outputs": [
        {
          "output_type": "display_data",
          "data": {
            "image/png": "[encoded data removed]",
            "text/plain": [
              "<Figure size 720x504 with 1 Axes>"
            ]
          },
          "metadata": {
            "needs_background": "light"
          }
        }
      ]
    },
    {
      "cell_type": "markdown",
      "metadata": {
        "id": "dCvDzqsLlBC5"
      },
      "source": [
        "## Evaluating predictions\n",
        "\n",
        "Alongisde visualizations, evaulation metrics are your alternative best option for evaluating your model.\n",
        "\n",
        "Depending on the problem you're working on, different models have different evaluation metrics. \n",
        "\n",
        "Two of the main metrics used for regression problems are:\n",
        "* **Mean absolute error (MAE)** - the mean difference between each of the predictions.\n",
        "* **Mean squared error (MSE)** - the squared mean difference between of the predictions (use if larger errors are more detrimental than smaller errors).\n",
        "\n",
        "The lower each of these values, the better."
      ]
    },
    {
      "cell_type": "markdown",
      "metadata": {
        "id": "rRywl2LtlQMS"
      },
      "source": [
        "You can also use [`model.evaluate()`](https://www.tensorflow.org/api_docs/python/tf/keras/Model#evaluate) which will return the loss of the model as well as any metrics setup during the compile step."
      ]
    },
    {
      "cell_type": "code",
      "metadata": {
        "colab": {
          "base_uri": "https://localhost:8080/"
        },
        "id": "Wx2MFsTXls-g",
        "outputId": "2c726d26-b8ff-4f78-9b12-4b41bb965a5c"
      },
      "source": [
        "model.evaluate(X_test, y_test)"
      ],
      "execution_count": 29,
      "outputs": [
        {
          "output_type": "stream",
          "text": [
            "1/1 [==============================] - 0s 122ms/step - loss: 10.3802 - mae: 10.3802\n"
          ],
          "name": "stdout"
        },
        {
          "output_type": "execute_result",
          "data": {
            "text/plain": [
              "[10.38020133972168, 10.38020133972168]"
            ]
          },
          "metadata": {},
          "execution_count": 29
        }
      ]
    },
    {
      "cell_type": "code",
      "metadata": {
        "id": "2R6gZL31lw9_"
      },
      "source": [
        "\n",
        "?model.evaluate()"
      ],
      "execution_count": 32,
      "outputs": []
    },
    {
      "cell_type": "code",
      "metadata": {
        "id": "-lU2p0DeUjiI"
      },
      "source": [
        ""
      ],
      "execution_count": 37,
      "outputs": []
    },
    {
      "cell_type": "code",
      "metadata": {
        "id": "3mlWZc-ISXTV"
      },
      "source": [
        "mae = tf.metrics.mean_absolute_error(y_test, y_preds)"
      ],
      "execution_count": 38,
      "outputs": []
    },
    {
      "cell_type": "code",
      "metadata": {
        "colab": {
          "base_uri": "https://localhost:8080/"
        },
        "id": "wKSLZY29U_8k",
        "outputId": "353ec4c9-0017-44de-d6f6-184c119c03ec"
      },
      "source": [
        "### \n",
        "mae"
      ],
      "execution_count": 39,
      "outputs": [
        {
          "output_type": "execute_result",
          "data": {
            "text/plain": [
              "<tf.Tensor: shape=(10,), dtype=float32, numpy=\n",
              "array([ 33.65919 ,  36.304363,  68.904686,  31.435644,  32.36869 ,\n",
              "       107.31803 ,  37.391384,  65.29586 ,  45.68451 ,  31.2     ],\n",
              "      dtype=float32)>"
            ]
          },
          "metadata": {},
          "execution_count": 39
        }
      ]
    },
    {
      "cell_type": "markdown",
      "metadata": {
        "id": "gtIYklq6VBAU"
      },
      "source": [
        "Huh? That's strange, MAE should be a single output.\n",
        "\n",
        "Instead, we get 10 values.\n",
        "\n",
        "This is because our y_test and y_preds tensors are different shapes."
      ]
    },
    {
      "cell_type": "code",
      "metadata": {
        "colab": {
          "base_uri": "https://localhost:8080/"
        },
        "id": "WBQtgGs0VMVC",
        "outputId": "d1586a10-e126-451e-81a2-64acd9de091c"
      },
      "source": [
        "y_test.shape, y_preds.shape"
      ],
      "execution_count": 41,
      "outputs": [
        {
          "output_type": "execute_result",
          "data": {
            "text/plain": [
              "((10,), (10, 1))"
            ]
          },
          "metadata": {},
          "execution_count": 41
        }
      ]
    },
    {
      "cell_type": "code",
      "metadata": {
        "colab": {
          "base_uri": "https://localhost:8080/"
        },
        "id": "xOhasa3LVXQm",
        "outputId": "092ee52d-37bf-4c2b-c7cd-d7ff5f99a6b6"
      },
      "source": [
        "y_test.dtype, y_preds.dtype"
      ],
      "execution_count": 44,
      "outputs": [
        {
          "output_type": "execute_result",
          "data": {
            "text/plain": [
              "(dtype('int64'), dtype('float32'))"
            ]
          },
          "metadata": {},
          "execution_count": 44
        }
      ]
    },
    {
      "cell_type": "code",
      "metadata": {
        "colab": {
          "base_uri": "https://localhost:8080/"
        },
        "id": "iQKLzAV2VPoF",
        "outputId": "b1f700ee-a724-49f8-9029-8738fb7f3935"
      },
      "source": [
        "# What do they look like?\n",
        "y_test, y_preds.squeeze()"
      ],
      "execution_count": 46,
      "outputs": [
        {
          "output_type": "execute_result",
          "data": {
            "text/plain": [
              "(array([  2,  34, -46,  22,  26, -82,  -6,  66, -18,  14]),\n",
              " array([  -8.147981,   29.173943,  -64.13086 ,   15.178221,   19.84346 ,\n",
              "        -106.11803 ,  -17.478462,   66.495865,  -31.474182,    5.84774 ],\n",
              "       dtype=float32))"
            ]
          },
          "metadata": {},
          "execution_count": 46
        }
      ]
    },
    {
      "cell_type": "code",
      "metadata": {
        "colab": {
          "base_uri": "https://localhost:8080/"
        },
        "id": "ti82AL8WVU9F",
        "outputId": "cee3c878-8a08-461d-bf06-47658086c32f"
      },
      "source": [
        "# Calcuate the MAE\n",
        "mae = tf.metrics.mean_absolute_error(y_true=y_test, \n",
        "                                     y_pred=y_preds.squeeze()) # use squeeze() to make same shape\n",
        "mae"
      ],
      "execution_count": 47,
      "outputs": [
        {
          "output_type": "execute_result",
          "data": {
            "text/plain": [
              "<tf.Tensor: shape=(), dtype=float32, numpy=10.380201>"
            ]
          },
          "metadata": {},
          "execution_count": 47
        }
      ]
    },
    {
      "cell_type": "code",
      "metadata": {
        "colab": {
          "base_uri": "https://localhost:8080/"
        },
        "id": "0QwPbMisVt5_",
        "outputId": "7eaef230-95a1-4c5c-9d48-7178c31b590b"
      },
      "source": [
        "mse = tf.metrics.mean_squared_error(y_test, y_preds.squeeze())\n",
        "mse"
      ],
      "execution_count": 49,
      "outputs": [
        {
          "output_type": "execute_result",
          "data": {
            "text/plain": [
              "<tf.Tensor: shape=(), dtype=float32, numpy=150.11331>"
            ]
          },
          "metadata": {},
          "execution_count": 49
        }
      ]
    },
    {
      "cell_type": "code",
      "metadata": {
        "colab": {
          "base_uri": "https://localhost:8080/"
        },
        "id": "vrtqruaOV1C3",
        "outputId": "27141ae3-48c8-4890-e7ee-90d6b44f496a"
      },
      "source": [
        "##MAE using tesnsorflow functions\n",
        "tf.reduce_mean(tf.abs(y_test-y_preds.squeeze()))"
      ],
      "execution_count": 50,
      "outputs": [
        {
          "output_type": "execute_result",
          "data": {
            "text/plain": [
              "<tf.Tensor: shape=(), dtype=float64, numpy=10.380201244354248>"
            ]
          },
          "metadata": {},
          "execution_count": 50
        }
      ]
    },
    {
      "cell_type": "code",
      "metadata": {
        "id": "aPCLzXh-WRCm"
      },
      "source": [
        "def mae(y_test, y_pred):\n",
        "  \"\"\"\n",
        "  Calculuates mean absolute error between y_test and y_preds.\n",
        "  \"\"\"\n",
        "  return tf.metrics.mean_absolute_error(y_test,\n",
        "                                        y_pred)\n",
        "  \n",
        "def mse(y_test, y_pred):\n",
        "  \"\"\"\n",
        "  Calculates mean squared error between y_test and y_preds.\n",
        "  \"\"\"\n",
        "  return tf.metrics.mean_squared_error(y_test,\n",
        "                                       y_pred)"
      ],
      "execution_count": 51,
      "outputs": []
    },
    {
      "cell_type": "markdown",
      "metadata": {
        "id": "4SshjZfAWWB-"
      },
      "source": [
        "\n",
        "Running experiments to improve a model\n",
        "After seeing the evaluation metrics and the predictions your model makes, it's likely you'll want to improve it.\n",
        "\n",
        "Again, there are many different ways you can do this, but 3 of the main ones are:\n",
        "\n",
        "Get more data - get more examples for your model to train on (more opportunities to learn patterns).\n",
        "Make your model larger (use a more complex model) - this might come in the form of more layers or more hidden units in each layer.\n",
        "Train for longer - give your model more of a chance to find the patterns in the data.\n",
        "Since we created our dataset, we could easily make more data but this isn't always the case when you're working with real-world datasets.\n",
        "\n",
        "So let's take a look at how we can improve our model using 2 and 3.\n",
        "\n",
        "To do so, we'll build 3 models and compare their results:\n",
        "\n",
        "model_1 - same as original model, 1 layer, trained for 100 epochs.\n",
        "model_2 - 2 layers, trained for 100 epochs.\n",
        "model_3 - 2 layers, trained for 500 epochs."
      ]
    },
    {
      "cell_type": "code",
      "metadata": {
        "id": "cG1vNCeCW5uv"
      },
      "source": [
        ""
      ],
      "execution_count": null,
      "outputs": []
    }
  ]
}